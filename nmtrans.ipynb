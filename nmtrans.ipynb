{
 "cells": [
  {
   "cell_type": "markdown",
   "metadata": {
    "id": "5ITt0_WRrz4B",
    "papermill": {
     "duration": 0.02396,
     "end_time": "2020-12-15T20:35:52.837000",
     "exception": false,
     "start_time": "2020-12-15T20:35:52.813040",
     "status": "completed"
    },
    "tags": []
   },
   "source": [
    "# Neural Machine Translation (NMT)"
   ]
  },
  {
   "cell_type": "code",
   "execution_count": 1,
   "metadata": {
    "execution": {
     "iopub.execute_input": "2020-12-15T20:35:52.898411Z",
     "iopub.status.busy": "2020-12-15T20:35:52.886492Z",
     "iopub.status.idle": "2020-12-15T20:35:53.519910Z",
     "shell.execute_reply": "2020-12-15T20:35:53.519388Z"
    },
    "papermill": {
     "duration": 0.660486,
     "end_time": "2020-12-15T20:35:53.520068",
     "exception": false,
     "start_time": "2020-12-15T20:35:52.859582",
     "status": "completed"
    },
    "tags": []
   },
   "outputs": [],
   "source": [
    "rm -rf /kaggle/working/neural-machine-translation"
   ]
  },
  {
   "cell_type": "code",
   "execution_count": 2,
   "metadata": {
    "execution": {
     "iopub.execute_input": "2020-12-15T20:35:53.572665Z",
     "iopub.status.busy": "2020-12-15T20:35:53.571895Z",
     "iopub.status.idle": "2020-12-15T20:35:55.345961Z",
     "shell.execute_reply": "2020-12-15T20:35:55.345499Z"
    },
    "papermill": {
     "duration": 1.80196,
     "end_time": "2020-12-15T20:35:55.346062",
     "exception": false,
     "start_time": "2020-12-15T20:35:53.544102",
     "status": "completed"
    },
    "tags": []
   },
   "outputs": [
    {
     "name": "stdout",
     "output_type": "stream",
     "text": [
      "Cloning into 'neural-machine-translation'...\r\n",
      "remote: Enumerating objects: 90, done.\u001b[K\r\n",
      "remote: Counting objects: 100% (90/90), done.\u001b[K\r\n",
      "remote: Compressing objects: 100% (58/58), done.\u001b[K\r\n",
      "remote: Total 90 (delta 31), reused 82 (delta 27), pack-reused 0\u001b[K\r\n",
      "Unpacking objects: 100% (90/90), done.\r\n"
     ]
    }
   ],
   "source": [
    "!git clone --single-branch --branch data_prep https://github.com/mariaafara/neural-machine-translation.git"
   ]
  },
  {
   "cell_type": "code",
   "execution_count": 3,
   "metadata": {
    "execution": {
     "iopub.execute_input": "2020-12-15T20:35:55.403303Z",
     "iopub.status.busy": "2020-12-15T20:35:55.399315Z",
     "iopub.status.idle": "2020-12-15T20:35:56.023120Z",
     "shell.execute_reply": "2020-12-15T20:35:56.022644Z"
    },
    "papermill": {
     "duration": 0.65226,
     "end_time": "2020-12-15T20:35:56.023222",
     "exception": false,
     "start_time": "2020-12-15T20:35:55.370962",
     "status": "completed"
    },
    "tags": []
   },
   "outputs": [
    {
     "name": "stdout",
     "output_type": "stream",
     "text": [
      "__notebook__.ipynb  \u001b[0m\u001b[01;34mneural-machine-translation\u001b[0m/\r\n"
     ]
    }
   ],
   "source": [
    "%ls"
   ]
  },
  {
   "cell_type": "code",
   "execution_count": 4,
   "metadata": {
    "execution": {
     "iopub.execute_input": "2020-12-15T20:35:56.080517Z",
     "iopub.status.busy": "2020-12-15T20:35:56.079648Z",
     "iopub.status.idle": "2020-12-15T20:36:02.355580Z",
     "shell.execute_reply": "2020-12-15T20:36:02.354731Z"
    },
    "id": "2sApVUcdrz4H",
    "papermill": {
     "duration": 6.307596,
     "end_time": "2020-12-15T20:36:02.355683",
     "exception": false,
     "start_time": "2020-12-15T20:35:56.048087",
     "status": "completed"
    },
    "tags": []
   },
   "outputs": [],
   "source": [
    "import time\n",
    "import sys  \n",
    "import numpy as np\n",
    "import pandas as pd\n",
    "import sys\n",
    "sys.path.insert(0, 'neural-machine-translation/nmt/')\n",
    "import pickle as pkl\n",
    "from model.encoder import Encoder\n",
    "from model.decoder import Decoder\n",
    "from dataPreparator import DataPreparator\n",
    "from dataGenerator import DataGenerator\n",
    "import tensorflow as tf\n",
    "import datetime as datetime\n",
    "from sklearn.model_selection import train_test_split\n",
    "pd.set_option('display.max_colwidth', None)\n",
    "import warnings\n",
    "warnings.simplefilter(action='ignore', category=FutureWarning)\n",
    "warnings.filterwarnings('ignore')\n"
   ]
  },
  {
   "cell_type": "markdown",
   "metadata": {
    "id": "CUyQNm99rz4Y",
    "papermill": {
     "duration": 0.02513,
     "end_time": "2020-12-15T20:36:02.406551",
     "exception": false,
     "start_time": "2020-12-15T20:36:02.381421",
     "status": "completed"
    },
    "tags": []
   },
   "source": [
    "### Download and prepare the dataset\n",
    "We will use a parallel dataset provided by http://www.statmt.org/europarl/ for french-english languages."
   ]
  },
  {
   "cell_type": "code",
   "execution_count": 5,
   "metadata": {
    "execution": {
     "iopub.execute_input": "2020-12-15T20:36:02.461299Z",
     "iopub.status.busy": "2020-12-15T20:36:02.460683Z",
     "iopub.status.idle": "2020-12-15T20:36:02.464982Z",
     "shell.execute_reply": "2020-12-15T20:36:02.464539Z"
    },
    "id": "ILp0l8izrz4f",
    "outputId": "36680e88-8462-49d4-a718-5be1850b4e2b",
    "papermill": {
     "duration": 0.033379,
     "end_time": "2020-12-15T20:36:02.465068",
     "exception": false,
     "start_time": "2020-12-15T20:36:02.431689",
     "status": "completed"
    },
    "tags": []
   },
   "outputs": [],
   "source": [
    "# ! wget http://www.statmt.org/europarl/v7/fr-en.tgz\n",
    "# !tar -xzvf fr-en.tgz"
   ]
  },
  {
   "cell_type": "markdown",
   "metadata": {
    "id": "xGIM1sSzrz4p",
    "papermill": {
     "duration": 0.024631,
     "end_time": "2020-12-15T20:36:02.514970",
     "exception": false,
     "start_time": "2020-12-15T20:36:02.490339",
     "status": "completed"
    },
    "tags": []
   },
   "source": [
    "After downloading the dataset, here are the steps we will take to prepare the data:\n",
    "1. Load the dataset (optional: load a perecentage of the dataset to experiment faster; keeping in mind that the quality of the translation degrades with less data)\n",
    "2. Normalize sentences by lowercasing and separating punctuations from words.\n",
    "3. Transform the data into paris of (src lang sentence, target language sentence).\n",
    "4. Filter out sentences by selecting only sentences with a max sequence length (optional).\n",
    "5. Create a Language class for each source and target languages of which it creates dictionaries to map from word → id and id → word.\n",
    "6. Convert sentences into numerical values using word → id dictionaries.\n",
    "7. Pad each sentence to either a maximum length or the maximum length of the sequences.\n",
    "8. Sort the dataset into batches (creating BatchDataset).\n",
    "9. Split the dataset into train val sets (you can specify the ration of val size (test_size))"
   ]
  },
  {
   "cell_type": "code",
   "execution_count": 6,
   "metadata": {
    "execution": {
     "iopub.execute_input": "2020-12-15T20:36:02.572051Z",
     "iopub.status.busy": "2020-12-15T20:36:02.570304Z",
     "iopub.status.idle": "2020-12-15T20:36:02.572675Z",
     "shell.execute_reply": "2020-12-15T20:36:02.573117Z"
    },
    "id": "fVpkaVxnjd0O",
    "papermill": {
     "duration": 0.032214,
     "end_time": "2020-12-15T20:36:02.573224",
     "exception": false,
     "start_time": "2020-12-15T20:36:02.541010",
     "status": "completed"
    },
    "tags": []
   },
   "outputs": [],
   "source": [
    "MAX_LENGTH = 10\n",
    "BATCH_SIZE = 64\n",
    "src_lang = \"english\"\n",
    "target_lang = \"french\"\n",
    "src_path = \"/kaggle/input/englishfrench-corpus/europarl-v7.fr-en.en\"\n",
    "target_path = \"/kaggle/input/englishfrench-corpus/europarl-v7.fr-en.fr\""
   ]
  },
  {
   "cell_type": "markdown",
   "metadata": {
    "id": "7zJiZdq3rz4s",
    "papermill": {
     "duration": 0.025095,
     "end_time": "2020-12-15T20:36:02.623519",
     "exception": false,
     "start_time": "2020-12-15T20:36:02.598424",
     "status": "completed"
    },
    "tags": []
   },
   "source": [
    "A standard format used in NMT is the parallel text format. It consists of a pair of plain text with files corresponding to source sentences and target translations, aligned line-by-line."
   ]
  },
  {
   "cell_type": "code",
   "execution_count": 7,
   "metadata": {
    "execution": {
     "iopub.execute_input": "2020-12-15T20:36:02.681273Z",
     "iopub.status.busy": "2020-12-15T20:36:02.679556Z",
     "iopub.status.idle": "2020-12-15T20:36:02.681937Z",
     "shell.execute_reply": "2020-12-15T20:36:02.682342Z"
    },
    "id": "ekYNQBnQrz4u",
    "papermill": {
     "duration": 0.033122,
     "end_time": "2020-12-15T20:36:02.682446",
     "exception": false,
     "start_time": "2020-12-15T20:36:02.649324",
     "status": "completed"
    },
    "tags": []
   },
   "outputs": [],
   "source": [
    "data_preparator = DataPreparator(src_lang, target_lang, src_path, target_path, max_length=MAX_LENGTH, \n",
    "                                    percentage=100, filter_by_length=True, test_size=0.2)"
   ]
  },
  {
   "cell_type": "code",
   "execution_count": 8,
   "metadata": {
    "execution": {
     "iopub.execute_input": "2020-12-15T20:36:02.737198Z",
     "iopub.status.busy": "2020-12-15T20:36:02.736568Z",
     "iopub.status.idle": "2020-12-15T20:41:34.431366Z",
     "shell.execute_reply": "2020-12-15T20:41:34.430178Z"
    },
    "id": "x7aUCGT7rz42",
    "outputId": "f7657358-360d-4827-f044-27159efb188e",
    "papermill": {
     "duration": 331.72334,
     "end_time": "2020-12-15T20:41:34.431515",
     "exception": false,
     "start_time": "2020-12-15T20:36:02.708175",
     "status": "completed"
    },
    "tags": []
   },
   "outputs": [
    {
     "name": "stdout",
     "output_type": "stream",
     "text": [
      "We have loaded 2007723 sentences for english lang\n",
      "We have loaded 2007723 sentences for french lang\n",
      "Filtering sentences with max length < 10 results in:\n",
      "106542 sentence for each language\n"
     ]
    }
   ],
   "source": [
    "lang_dic, train_df, val_df = data_preparator.prepare()"
   ]
  },
  {
   "cell_type": "code",
   "execution_count": 9,
   "metadata": {
    "execution": {
     "iopub.execute_input": "2020-12-15T20:41:34.493133Z",
     "iopub.status.busy": "2020-12-15T20:41:34.492523Z",
     "iopub.status.idle": "2020-12-15T20:41:34.498614Z",
     "shell.execute_reply": "2020-12-15T20:41:34.498103Z"
    },
    "papermill": {
     "duration": 0.038306,
     "end_time": "2020-12-15T20:41:34.498700",
     "exception": false,
     "start_time": "2020-12-15T20:41:34.460394",
     "status": "completed"
    },
    "tags": []
   },
   "outputs": [
    {
     "data": {
      "text/plain": [
       "{'english': <dataPreparator.Lang at 0x7f8d97f34f90>,\n",
       " 'french': <dataPreparator.Lang at 0x7f8d97f34fd0>}"
      ]
     },
     "execution_count": 9,
     "metadata": {},
     "output_type": "execute_result"
    }
   ],
   "source": [
    "lang_dic"
   ]
  },
  {
   "cell_type": "code",
   "execution_count": 10,
   "metadata": {
    "execution": {
     "iopub.execute_input": "2020-12-15T20:41:34.561573Z",
     "iopub.status.busy": "2020-12-15T20:41:34.559679Z",
     "iopub.status.idle": "2020-12-15T20:41:34.562170Z",
     "shell.execute_reply": "2020-12-15T20:41:34.562579Z"
    },
    "papermill": {
     "duration": 0.035395,
     "end_time": "2020-12-15T20:41:34.562678",
     "exception": false,
     "start_time": "2020-12-15T20:41:34.527283",
     "status": "completed"
    },
    "tags": []
   },
   "outputs": [],
   "source": [
    "eos = lang_dic[target_lang].word2int[\"<EOS>\"]\n",
    "sos = lang_dic[target_lang].word2int['<SOS>']"
   ]
  },
  {
   "cell_type": "code",
   "execution_count": 11,
   "metadata": {
    "execution": {
     "iopub.execute_input": "2020-12-15T20:41:34.659681Z",
     "iopub.status.busy": "2020-12-15T20:41:34.658563Z",
     "iopub.status.idle": "2020-12-15T20:41:34.786557Z",
     "shell.execute_reply": "2020-12-15T20:41:34.786054Z"
    },
    "papermill": {
     "duration": 0.19548,
     "end_time": "2020-12-15T20:41:34.786656",
     "exception": false,
     "start_time": "2020-12-15T20:41:34.591176",
     "status": "completed"
    },
    "tags": []
   },
   "outputs": [],
   "source": [
    "pkl.dump(lang_dic, open(\"lang_dic9.pkl\",\"wb\"))\n",
    "pkl.dump(train_df, open(\"train_df9.pkl\",\"wb\"))\n",
    "pkl.dump(val_df, open('val_df9,pkl','wb'))"
   ]
  },
  {
   "cell_type": "code",
   "execution_count": 12,
   "metadata": {
    "execution": {
     "iopub.execute_input": "2020-12-15T20:41:34.853704Z",
     "iopub.status.busy": "2020-12-15T20:41:34.852786Z",
     "iopub.status.idle": "2020-12-15T20:41:34.861825Z",
     "shell.execute_reply": "2020-12-15T20:41:34.862245Z"
    },
    "id": "c24Impm2rz4_",
    "outputId": "921b8446-fea0-46c2-ea44-edf466da3e6a",
    "papermill": {
     "duration": 0.046139,
     "end_time": "2020-12-15T20:41:34.862361",
     "exception": false,
     "start_time": "2020-12-15T20:41:34.816222",
     "status": "completed"
    },
    "tags": []
   },
   "outputs": [
    {
     "name": "stdout",
     "output_type": "stream",
     "text": [
      "An example aligned sentences:\n"
     ]
    },
    {
     "data": {
      "text/html": [
       "<div>\n",
       "<style scoped>\n",
       "    .dataframe tbody tr th:only-of-type {\n",
       "        vertical-align: middle;\n",
       "    }\n",
       "\n",
       "    .dataframe tbody tr th {\n",
       "        vertical-align: top;\n",
       "    }\n",
       "\n",
       "    .dataframe thead th {\n",
       "        text-align: right;\n",
       "    }\n",
       "</style>\n",
       "<table border=\"1\" class=\"dataframe\">\n",
       "  <thead>\n",
       "    <tr style=\"text-align: right;\">\n",
       "      <th></th>\n",
       "      <th>english</th>\n",
       "      <th>french</th>\n",
       "    </tr>\n",
       "  </thead>\n",
       "  <tbody>\n",
       "    <tr>\n",
       "      <th>173184</th>\n",
       "      <td>so 29 countries have signed up to it .</td>\n",
       "      <td>vingt-neuf pays l' ont maintenant signé.</td>\n",
       "    </tr>\n",
       "    <tr>\n",
       "      <th>817166</th>\n",
       "      <td>it is extremely clear .</td>\n",
       "      <td>elle est parfaitement claire .</td>\n",
       "    </tr>\n",
       "    <tr>\n",
       "      <th>1808090</th>\n",
       "      <td>we should make sure he gets those resources .</td>\n",
       "      <td>nous devons nous assurer qu'elle reçoit ces ressources .</td>\n",
       "    </tr>\n",
       "    <tr>\n",
       "      <th>900203</th>\n",
       "      <td>that is a hypothesis .</td>\n",
       "      <td>c'est une hypothèse .</td>\n",
       "    </tr>\n",
       "    <tr>\n",
       "      <th>817660</th>\n",
       "      <td>however , it is more than that .</td>\n",
       "      <td>c'est toutefois plus que cela .</td>\n",
       "    </tr>\n",
       "  </tbody>\n",
       "</table>\n",
       "</div>"
      ],
      "text/plain": [
       "                                               english  \\\n",
       "173184          so 29 countries have signed up to it .   \n",
       "817166                         it is extremely clear .   \n",
       "1808090  we should make sure he gets those resources .   \n",
       "900203                          that is a hypothesis .   \n",
       "817660                however , it is more than that .   \n",
       "\n",
       "                                                           french  \n",
       "173184                   vingt-neuf pays l' ont maintenant signé.  \n",
       "817166                             elle est parfaitement claire .  \n",
       "1808090  nous devons nous assurer qu'elle reçoit ces ressources .  \n",
       "900203                                      c'est une hypothèse .  \n",
       "817660                            c'est toutefois plus que cela .  "
      ]
     },
     "execution_count": 12,
     "metadata": {},
     "output_type": "execute_result"
    }
   ],
   "source": [
    "print(\"An example aligned sentences:\")\n",
    "train_df.head()"
   ]
  },
  {
   "cell_type": "code",
   "execution_count": 13,
   "metadata": {
    "execution": {
     "iopub.execute_input": "2020-12-15T20:41:34.925867Z",
     "iopub.status.busy": "2020-12-15T20:41:34.925104Z",
     "iopub.status.idle": "2020-12-15T20:41:34.928601Z",
     "shell.execute_reply": "2020-12-15T20:41:34.928159Z"
    },
    "id": "wJWoHeTWjd0Q",
    "papermill": {
     "duration": 0.038212,
     "end_time": "2020-12-15T20:41:34.928689",
     "exception": false,
     "start_time": "2020-12-15T20:41:34.890477",
     "status": "completed"
    },
    "tags": []
   },
   "outputs": [],
   "source": [
    "train_gen = DataGenerator(lang_dic, train_df, MAX_LENGTH, BATCH_SIZE)"
   ]
  },
  {
   "cell_type": "code",
   "execution_count": 14,
   "metadata": {
    "execution": {
     "iopub.execute_input": "2020-12-15T20:41:34.995967Z",
     "iopub.status.busy": "2020-12-15T20:41:34.994683Z",
     "iopub.status.idle": "2020-12-15T20:41:34.998073Z",
     "shell.execute_reply": "2020-12-15T20:41:34.997450Z"
    },
    "id": "5XC4ACAIjd0Q",
    "papermill": {
     "duration": 0.039348,
     "end_time": "2020-12-15T20:41:34.998168",
     "exception": false,
     "start_time": "2020-12-15T20:41:34.958820",
     "status": "completed"
    },
    "tags": []
   },
   "outputs": [],
   "source": [
    "val_target_sentences= val_df[target_lang].tolist()\n",
    "val_source_sentences = val_df[src_lang].tolist()"
   ]
  },
  {
   "cell_type": "code",
   "execution_count": 15,
   "metadata": {
    "execution": {
     "iopub.execute_input": "2020-12-15T20:41:35.062331Z",
     "iopub.status.busy": "2020-12-15T20:41:35.060453Z",
     "iopub.status.idle": "2020-12-15T20:41:35.062919Z",
     "shell.execute_reply": "2020-12-15T20:41:35.063319Z"
    },
    "id": "ZPmtbAuSXgWX",
    "outputId": "5069d023-85c3-4f18-eea4-744ef1947408",
    "papermill": {
     "duration": 0.034943,
     "end_time": "2020-12-15T20:41:35.063417",
     "exception": false,
     "start_time": "2020-12-15T20:41:35.028474",
     "status": "completed"
    },
    "tags": []
   },
   "outputs": [],
   "source": [
    "# for b in train_gen:\n",
    "#     print(b[0])\n",
    "#     break"
   ]
  },
  {
   "cell_type": "markdown",
   "metadata": {
    "id": "i-710Jkfrz5I",
    "papermill": {
     "duration": 0.028786,
     "end_time": "2020-12-15T20:41:35.120884",
     "exception": false,
     "start_time": "2020-12-15T20:41:35.092098",
     "status": "completed"
    },
    "tags": []
   },
   "source": [
    "## In this version we will try the general encoder-decoder architecture for NMT."
   ]
  },
  {
   "attachments": {
    "image.png": {
     "image/png": "[encoded data removed]"
    }
   },
   "cell_type": "markdown",
   "metadata": {
    "id": "V_Dvhj7Arz5L",
    "papermill": {
     "duration": 0.028623,
     "end_time": "2020-12-15T20:41:35.177971",
     "exception": false,
     "start_time": "2020-12-15T20:41:35.149348",
     "status": "completed"
    },
    "tags": []
   },
   "source": [
    "NMT is the process of mapping sequence inputs (sequence of source sentence words) to sequence outputs (sequence of translated sentence words).\n",
    "This is done using Sequence to Sequence models (Seq2Seq). Seq2Seq can process variable-length source inputs, mapping them to variable-length target outputs using  Encoder-decoder architecture.<br>\n",
    "\n",
    "It consists of 2 networks:\n",
    "- Encoder - Is the network where the input is encoded. It represents the input text corpus (Source language text) in the form of embedding vectors and trains the model.\n",
    "\n",
    "- Decoder - Is the other network which generates the translation. It receives a fixed size vector from the encoder to decode the outputs into target language words. \n",
    "\n",
    "![image.png](attachment:image.png)\n",
    "\n",
    "In further details:<br>\n",
    "The seq2seq models are a special class of Recurrent Neural Networks.<br>\n",
    "The RNN Encoder-Decoder architecture is comprised of two recurrent neural networks - i.e., encoder and decoder.<br>\n",
    "The RNN encoder takes a variable-length sequence as the input and transforms it into a fixed-shape hidden state. In other words, information of the input sequence is encoded in the hidden state of the RNN encoder.<br>\n",
    "To generate the output sequence token by token, a separate RNN decoder can predict the next token based on what tokens have been seen (such as in language modeling) or generated, together with the encoded information of the input sequence.\n",
    "<br>\n",
    "The minds behind this architecture are Ilya Sutskever, Oriol Vinyals and Quoc V. Le.  Link to paper: https://arxiv.org/pdf/1409.3215.pdf\n",
    "\n",
    "In this work we can either choose to use LSTM/GRU encoder and decoder."
   ]
  },
  {
   "cell_type": "markdown",
   "metadata": {
    "id": "dgGBVXpJrz5M",
    "papermill": {
     "duration": 0.027878,
     "end_time": "2020-12-15T20:41:35.239236",
     "exception": false,
     "start_time": "2020-12-15T20:41:35.211358",
     "status": "completed"
    },
    "tags": []
   },
   "source": [
    "## Define the Encoder and Decoder"
   ]
  },
  {
   "cell_type": "code",
   "execution_count": 16,
   "metadata": {
    "execution": {
     "iopub.execute_input": "2020-12-15T20:41:35.300802Z",
     "iopub.status.busy": "2020-12-15T20:41:35.300257Z",
     "iopub.status.idle": "2020-12-15T20:41:35.304492Z",
     "shell.execute_reply": "2020-12-15T20:41:35.303985Z"
    },
    "papermill": {
     "duration": 0.036515,
     "end_time": "2020-12-15T20:41:35.304577",
     "exception": false,
     "start_time": "2020-12-15T20:41:35.268062",
     "status": "completed"
    },
    "tags": []
   },
   "outputs": [],
   "source": [
    "# lang_dic = pkl.load(open(\"/kaggle/input/version4/lang_dic.pkl\",\"rb\"))"
   ]
  },
  {
   "cell_type": "code",
   "execution_count": 17,
   "metadata": {
    "execution": {
     "iopub.execute_input": "2020-12-15T20:41:35.370576Z",
     "iopub.status.busy": "2020-12-15T20:41:35.370075Z",
     "iopub.status.idle": "2020-12-15T20:41:37.850972Z",
     "shell.execute_reply": "2020-12-15T20:41:37.850424Z"
    },
    "id": "koozVbLwrz5N",
    "papermill": {
     "duration": 2.517572,
     "end_time": "2020-12-15T20:41:37.851076",
     "exception": false,
     "start_time": "2020-12-15T20:41:35.333504",
     "status": "completed"
    },
    "tags": []
   },
   "outputs": [],
   "source": [
    "EMBEDDING_SIZE = 32\n",
    "rnn_units = 64\n",
    "with_attention = True\n",
    "\n",
    "src_vocab_size = lang_dic[src_lang].n_words + 1\n",
    "target_vocab_size = lang_dic[target_lang].n_words + 1\n",
    "\n",
    "encoder = Encoder(src_vocab_size, EMBEDDING_SIZE, rnn_units, batch_size=BATCH_SIZE, unit_type=Encoder.GRU_UNIT)\n",
    "\n",
    "decoder = Decoder(target_vocab_size, EMBEDDING_SIZE, rnn_units, unit_type=Encoder.GRU_UNIT, with_attention=with_attention)"
   ]
  },
  {
   "cell_type": "markdown",
   "metadata": {
    "id": "4lsfZ0uwrz5U",
    "papermill": {
     "duration": 0.027752,
     "end_time": "2020-12-15T20:41:37.907540",
     "exception": false,
     "start_time": "2020-12-15T20:41:37.879788",
     "status": "completed"
    },
    "tags": []
   },
   "source": [
    "## Checkpoints (Object-based saving)"
   ]
  },
  {
   "cell_type": "code",
   "execution_count": 18,
   "metadata": {
    "execution": {
     "iopub.execute_input": "2020-12-15T20:41:37.968502Z",
     "iopub.status.busy": "2020-12-15T20:41:37.967976Z",
     "iopub.status.idle": "2020-12-15T20:41:37.971914Z",
     "shell.execute_reply": "2020-12-15T20:41:37.971491Z"
    },
    "id": "AVIqf_W0rz5V",
    "papermill": {
     "duration": 0.036169,
     "end_time": "2020-12-15T20:41:37.972003",
     "exception": false,
     "start_time": "2020-12-15T20:41:37.935834",
     "status": "completed"
    },
    "tags": []
   },
   "outputs": [],
   "source": [
    "def checkpoint(model, name=None):\n",
    "    if name is not None:\n",
    "        model.save_weights('{}.h5'.format(name))\n",
    "    else:\n",
    "        raise NotImplementedError"
   ]
  },
  {
   "cell_type": "code",
   "execution_count": null,
   "metadata": {
    "papermill": {
     "duration": 0.028188,
     "end_time": "2020-12-15T20:41:38.028313",
     "exception": false,
     "start_time": "2020-12-15T20:41:38.000125",
     "status": "completed"
    },
    "tags": []
   },
   "outputs": [],
   "source": []
  },
  {
   "cell_type": "markdown",
   "metadata": {
    "id": "elvCvtrErz5w",
    "papermill": {
     "duration": 0.027823,
     "end_time": "2020-12-15T20:41:38.084186",
     "exception": false,
     "start_time": "2020-12-15T20:41:38.056363",
     "status": "completed"
    },
    "tags": []
   },
   "source": [
    "## Do the training"
   ]
  },
  {
   "cell_type": "markdown",
   "metadata": {
    "id": "vb7k_mK5rz5y",
    "papermill": {
     "duration": 0.027978,
     "end_time": "2020-12-15T20:41:38.140410",
     "exception": false,
     "start_time": "2020-12-15T20:41:38.112432",
     "status": "completed"
    },
    "tags": []
   },
   "source": [
    "@tf.function is used as a decorator to take advance of static graph computation (remove it inorder to debug)</br>\n",
    "The computations of the network need to be put under tf.GradientTape() to keep track of gradients\n",
    "\n",
    "1. Pass the input through the encoder which return encoder output and the encoder hidden state.\n",
    "2. Prepare the decoder input (which is the start token) and initial states (whish is the encoder hidden state/s).\n",
    "3. Pass them to the decoder and it returns the predictions and the decoder hidden state/s.\n",
    "4. The decoder predictions and target output are used to calculate the loss.\n",
    "5. The decoder hidden state/s is then passed back into the decoder model.\n",
    "6. Use teacher forcing to decide the next input to the decoder.\n",
    "7. The final step is to calculate the gradients and apply it to the optimizer and backpropagate."
   ]
  },
  {
   "cell_type": "code",
   "execution_count": 19,
   "metadata": {
    "execution": {
     "iopub.execute_input": "2020-12-15T20:41:38.219859Z",
     "iopub.status.busy": "2020-12-15T20:41:38.218011Z",
     "iopub.status.idle": "2020-12-15T20:41:38.220456Z",
     "shell.execute_reply": "2020-12-15T20:41:38.220868Z"
    },
    "papermill": {
     "duration": 0.052142,
     "end_time": "2020-12-15T20:41:38.220983",
     "exception": false,
     "start_time": "2020-12-15T20:41:38.168841",
     "status": "completed"
    },
    "tags": []
   },
   "outputs": [],
   "source": [
    "import matplotlib.pyplot as plt\n",
    "import matplotlib.ticker as ticker\n",
    "\n",
    "def evaluate(sentence):\n",
    "    attention_plot = np.zeros((MAX_LENGTH, MAX_LENGTH))\n",
    "    val_sentence = data_preparator.normalize_string(sentence)\n",
    "    val_sentence = train_gen.sentence_to_indexes(val_sentence, lang_dic[src_lang])\n",
    "    val_sentence = tf.keras.preprocessing.sequence.pad_sequences([val_sentence],padding='post',\n",
    "                                                    maxlen=MAX_LENGTH, truncating='post')\n",
    "\n",
    "    result = ''\n",
    "\n",
    "    hidden = [tf.zeros((1, rnn_units))]\n",
    "    enc_out, enc_hidden = encoder(val_sentence, hidden)\n",
    "\n",
    "    dec_hidden = enc_hidden\n",
    "    dec_input = tf.expand_dims([sos], 0)\n",
    "\n",
    "    for t in range(MAX_LENGTH):\n",
    "        predictions, dec_hidden, attention_weights = decoder(dec_input,\n",
    "                                                         dec_hidden,\n",
    "                                                         enc_out)\n",
    "\n",
    "        # storing the attention weights to plot later on\n",
    "        attention_weights = tf.reshape(attention_weights, (-1, ))\n",
    "        attention_plot[t] = attention_weights.numpy()\n",
    "\n",
    "        predicted_id = tf.argmax(predictions[0]).numpy()\n",
    "        result += lang_dic[target_lang].int2word[predicted_id] + ' '\n",
    "        if lang_dic[target_lang].int2word[predicted_id] == lang_dic[target_lang].int2word[eos]:\n",
    "            print(\"yes\")\n",
    "            return result, sentence, attention_plot\n",
    "\n",
    "        # the predicted ID is fed back into the model\n",
    "        dec_input = tf.expand_dims([predicted_id], 0)\n",
    "    \n",
    "    return result, sentence, attention_plot\n",
    "\n",
    "# function for plotting the attention weights\n",
    "def plot_attention(attention, sentence, predicted_sentence):\n",
    "    fig = plt.figure(figsize=(10,10))\n",
    "    ax = fig.add_subplot(1, 1, 1)\n",
    "    ax.matshow(attention, cmap='viridis')\n",
    "\n",
    "    fontdict = {'fontsize': 14}\n",
    "\n",
    "    ax.set_xticklabels([''] + sentence, fontdict=fontdict, rotation=90)\n",
    "    ax.set_yticklabels([''] + predicted_sentence, fontdict=fontdict)\n",
    "\n",
    "    ax.xaxis.set_major_locator(ticker.MultipleLocator(1))\n",
    "    ax.yaxis.set_major_locator(ticker.MultipleLocator(1))\n",
    "\n",
    "    plt.show()\n",
    "    \n",
    "def translate(sentence,target, plot=False):\n",
    "    result, sentence, attention_plot = evaluate(sentence)\n",
    "\n",
    "    print('Input: %s' % (sentence))\n",
    "    print('Target translation: {}'.format(target))\n",
    "    print('Predicted translation: {}'.format(result))\n",
    "    if plot:\n",
    "        attention_plot = attention_plot[:len(result.split(' ')), :len(sentence.split(' '))]\n",
    "        plot_attention(attention_plot, sentence.split(' '), result.split(' '))"
   ]
  },
  {
   "cell_type": "code",
   "execution_count": 20,
   "metadata": {
    "execution": {
     "iopub.execute_input": "2020-12-15T20:41:38.281610Z",
     "iopub.status.busy": "2020-12-15T20:41:38.281115Z",
     "iopub.status.idle": "2020-12-15T20:41:40.959443Z",
     "shell.execute_reply": "2020-12-15T20:41:40.959865Z"
    },
    "papermill": {
     "duration": 2.710658,
     "end_time": "2020-12-15T20:41:40.960055",
     "exception": false,
     "start_time": "2020-12-15T20:41:38.249397",
     "status": "completed"
    },
    "tags": []
   },
   "outputs": [
    {
     "name": "stdout",
     "output_type": "stream",
     "text": [
      "Input: we must not let this happen again.\n",
      "Target translation: il ne faut pas que cela se reproduise .\n",
      "Predicted translation: améliorées\". «socrates» dites naissance oignons vivez-vous 462 (h-0791/98): trions vatican \n"
     ]
    }
   ],
   "source": [
    "translate('we must not let this happen again.','il ne faut pas que cela se reproduise .')"
   ]
  },
  {
   "cell_type": "code",
   "execution_count": 21,
   "metadata": {
    "execution": {
     "iopub.execute_input": "2020-12-15T20:41:41.029681Z",
     "iopub.status.busy": "2020-12-15T20:41:41.029149Z",
     "iopub.status.idle": "2020-12-15T20:41:41.033035Z",
     "shell.execute_reply": "2020-12-15T20:41:41.032507Z"
    },
    "papermill": {
     "duration": 0.043024,
     "end_time": "2020-12-15T20:41:41.033167",
     "exception": false,
     "start_time": "2020-12-15T20:41:40.990143",
     "status": "completed"
    },
    "tags": []
   },
   "outputs": [],
   "source": [
    "# @tf.function\n",
    "def train_step(source_sequence, target_sequence, encoder_initial_states):\n",
    "    \n",
    "    loss = 0\n",
    "    \n",
    "    with tf.GradientTape() as tape:\n",
    "        \n",
    "        # step 1\n",
    "        enc_output, enc_states = encoder(source_sequence, encoder_initial_states) \n",
    "        \n",
    "        # step 2\n",
    "#         enc_states = enc_outputs[1:]\n",
    "        dec_states = enc_states\n",
    "        dec_input = tf.expand_dims([lang_dic[target_lang].word2int['<SOS>']] * BATCH_SIZE, 1)\n",
    "\n",
    "        for t in range(1, target_sequence.shape[1]):\n",
    "            # step 3 - 5\n",
    "            if with_attention:\n",
    "                predictions, dec_states, _ = decoder(dec_input, dec_states, enc_output)\n",
    "            else:\n",
    "                predictions, dec_states = decoder(dec_input, dec_states)\n",
    "            \n",
    "            # step 4\n",
    "            loss += loss_function(target_sequence[:, t], predictions)\n",
    "            \n",
    "            # step 6\n",
    "            # using teacher forcing technique - feeding the target word as the next input to the decoder\n",
    "            dec_input = tf.expand_dims(target_sequence[:, t], 1)\n",
    "            \n",
    "    # step 7 \n",
    "    batch_loss = (loss / int(target_sequence.shape[1]))\n",
    "\n",
    "    variables = encoder.trainable_variables + decoder.trainable_variables\n",
    "\n",
    "    gradients = tape.gradient(loss, variables)\n",
    "\n",
    "    optimizer.apply_gradients(zip(gradients, variables))\n",
    "\n",
    "    return batch_loss"
   ]
  },
  {
   "cell_type": "code",
   "execution_count": 22,
   "metadata": {
    "execution": {
     "iopub.execute_input": "2020-12-15T20:41:41.095626Z",
     "iopub.status.busy": "2020-12-15T20:41:41.095086Z",
     "iopub.status.idle": "2020-12-15T20:41:41.099172Z",
     "shell.execute_reply": "2020-12-15T20:41:41.098734Z"
    },
    "id": "djPxI8wQrz6I",
    "papermill": {
     "duration": 0.037462,
     "end_time": "2020-12-15T20:41:41.099263",
     "exception": false,
     "start_time": "2020-12-15T20:41:41.061801",
     "status": "completed"
    },
    "tags": []
   },
   "outputs": [],
   "source": [
    "# from nltk.translate.bleu_score import corpus_bleu\n",
    "\n",
    "# val_source_sentence = \"I cannot answer that question.\"\n",
    "# val_target_sentence = \"je ne peux répondre à cette question .\"\n",
    "# val_sentence = data_preparator.normalize_string(val_source_sentence)\n",
    "# val_sentence = train_gen.sentence_to_indexes(val_sentence, lang_dic[src_lang])\n",
    "# val_sentence = tf.keras.preprocessing.sequence.pad_sequences([val_sentence],padding='post',\n",
    "#                                                 maxlen=MAX_LENGTH, truncating='post')\n",
    "\n",
    "# sentences = [data_preparator.normalize_string(sentence) for sentence in val_source_sentences]\n",
    "# sentences = [train_gen.sentence_to_indexes(sentence, lang_dic[src_lang]) for sentence in sentences]\n",
    "# sentences = tf.keras.preprocessing.sequence.pad_sequences(sentences,padding='post',\n",
    "#                                                 maxlen=MAX_LENGTH, truncating='post')\n",
    "\n",
    "# def bleu_scores(references, candidates):\n",
    "#     \"BLEU scores are based on an average of unigram, bigram, trigram and 4-gram precision\"\n",
    "#     bleu_1 = corpus_bleu(references, candidates, weights=(1.0, 0, 0, 0),)\n",
    "#     print(\"bleu{} {}\".format(1,bleu_1))\n",
    "#     bleu_2 = corpus_bleu(references, candidates, weights=(0.5, 0.5, 0, 0))\n",
    "#     print(\"bleu{} {}\".format(2,bleu_2))    \n",
    "#     bleu_3 = corpus_bleu(references, candidates, weights=(0.3, 0.3, 0.3, 0))\n",
    "#     print(\"bleu{} {}\".format(3,bleu_3))\n",
    "#     bleu_4 = corpus_bleu(references, candidates, weights=(0.25, 0.25, 0.25, 0.25))\n",
    "#     print(\"bleu{} {}\".format(4,bleu_4))\n",
    "#     return bleu_1, bleu_2, bleu_3 , bleu_4\n",
    "\n",
    "# # Evaluate the model\n",
    "# def evaluate_model(references, sentences):\n",
    "#     \"BLEU scores are based on an average of unigram, bigram, trigram and 4-gram precision\"\n",
    "#     candidates = translate(sentences,eos,sos,BATCH_SIZE=100)\n",
    "#     references = references[:len(candidates)]\n",
    "#     bleu_1, bleu_2, bleu_3 , bleu_4 = bleu_scores(references, candidates)\n",
    "#     return bleu_1, bleu_2, bleu_3 , bleu_4"
   ]
  },
  {
   "cell_type": "code",
   "execution_count": 23,
   "metadata": {
    "execution": {
     "iopub.execute_input": "2020-12-15T20:41:41.162338Z",
     "iopub.status.busy": "2020-12-15T20:41:41.161564Z",
     "iopub.status.idle": "2020-12-15T20:41:41.163898Z",
     "shell.execute_reply": "2020-12-15T20:41:41.164461Z"
    },
    "papermill": {
     "duration": 0.035908,
     "end_time": "2020-12-15T20:41:41.164577",
     "exception": false,
     "start_time": "2020-12-15T20:41:41.128669",
     "status": "completed"
    },
    "tags": []
   },
   "outputs": [],
   "source": [
    "# encoder.load_weights(\"/kaggle/input/version4/encoder8.h5\")\n",
    "# decoder.load_weights(\"/kaggle/input/version4/decoder8.h5\")"
   ]
  },
  {
   "cell_type": "markdown",
   "metadata": {
    "id": "cOqD-4garz6R",
    "papermill": {
     "duration": 0.031915,
     "end_time": "2020-12-15T20:41:41.226905",
     "exception": false,
     "start_time": "2020-12-15T20:41:41.194990",
     "status": "completed"
    },
    "tags": []
   },
   "source": [
    "## Start the training loop. \n",
    "At every epoch, we will grab batches of data for training. We also print out the loss value and see how the model performs at the end of each epoch."
   ]
  },
  {
   "cell_type": "code",
   "execution_count": 24,
   "metadata": {
    "execution": {
     "iopub.execute_input": "2020-12-15T20:41:41.289430Z",
     "iopub.status.busy": "2020-12-15T20:41:41.288662Z",
     "iopub.status.idle": "2020-12-15T20:41:41.291463Z",
     "shell.execute_reply": "2020-12-15T20:41:41.290909Z"
    },
    "id": "Px3XyxwOrz6h",
    "papermill": {
     "duration": 0.03561,
     "end_time": "2020-12-15T20:41:41.291556",
     "exception": false,
     "start_time": "2020-12-15T20:41:41.255946",
     "status": "completed"
    },
    "tags": []
   },
   "outputs": [],
   "source": [
    "# # Load the TensorBoard notebook extension\n",
    "# %load_ext tensorboard\n",
    "# # %reload_ext tensorboard\n",
    "\n",
    "# # Clear any logs from previous runs\n",
    "# !rm -rf ./logs/\n",
    "\n",
    "# current_time = datetime.datetime.now().strftime(\"%Y%m%d-%H%M%S\")\n",
    "# train_log_dir = 'logs/gradient_tape/' + current_time + '/train'\n",
    "# test_log_dir = 'logs/gradient_tape/' + current_time + '/test'\n",
    "# train_summary_writer = tf.summary.create_file_writer(train_log_dir)\n",
    "# test_summary_writer = tf.summary.create_file_writer(test_log_dir)"
   ]
  },
  {
   "cell_type": "code",
   "execution_count": 25,
   "metadata": {
    "execution": {
     "iopub.execute_input": "2020-12-15T20:41:41.359934Z",
     "iopub.status.busy": "2020-12-15T20:41:41.358106Z",
     "iopub.status.idle": "2020-12-15T20:41:41.360526Z",
     "shell.execute_reply": "2020-12-15T20:41:41.360942Z"
    },
    "papermill": {
     "duration": 0.040506,
     "end_time": "2020-12-15T20:41:41.361050",
     "exception": false,
     "start_time": "2020-12-15T20:41:41.320544",
     "status": "completed"
    },
    "tags": []
   },
   "outputs": [],
   "source": [
    "### Define the optimizer and the loss function\n",
    "def loss_function(targets, predictions):\n",
    "    crossentropy = tf.keras.losses.SparseCategoricalCrossentropy(from_logits=True) #criterion\n",
    "    mask = tf.math.logical_not(tf.math.equal(targets, 0))\n",
    "    mask = tf.cast(mask, dtype=tf.int64)\n",
    "    loss = crossentropy(targets, predictions, sample_weight=mask)\n",
    "    return loss\n",
    "\n",
    "# optimizer = tf.keras.optimizers.Adam(1e-3)\n",
    "# lr_schedule = tf.keras.callbacks.LearningRateScheduler(\n",
    "#     lambda epoch: 1e-8 * 10**(epoch / 20))\n",
    "\n",
    "steps_per_epoch = train_gen.__len__()\n",
    "learning_rate_fn = tf.keras.optimizers.schedules.PiecewiseConstantDecay(\n",
    "    [80*steps_per_epoch, 120*steps_per_epoch, 160*steps_per_epoch, 180*steps_per_epoch],\n",
    "    [1e-3, 1e-4, 1e-5, 1e-6, 5e-6]\n",
    ")\n",
    "\n",
    "optimizer = tf.keras.optimizers.Adam(learning_rate=learning_rate_fn)"
   ]
  },
  {
   "cell_type": "code",
   "execution_count": 26,
   "metadata": {
    "execution": {
     "iopub.execute_input": "2020-12-15T20:41:41.430468Z",
     "iopub.status.busy": "2020-12-15T20:41:41.429792Z",
     "iopub.status.idle": "2020-12-15T20:41:41.433190Z",
     "shell.execute_reply": "2020-12-15T20:41:41.432758Z"
    },
    "id": "tL_TmPpYrz6v",
    "outputId": "1b876e16-556a-4252-b021-f0cfe15b06b3",
    "papermill": {
     "duration": 0.042903,
     "end_time": "2020-12-15T20:41:41.433276",
     "exception": false,
     "start_time": "2020-12-15T20:41:41.390373",
     "status": "completed"
    },
    "tags": []
   },
   "outputs": [],
   "source": [
    "def train(EPOCHS, log_every):\n",
    "\n",
    "    # Keep results for plotting\n",
    "    train_loss_results = []\n",
    "#     val_bleu1 = []\n",
    "#     val_bleu2 = []\n",
    "#     val_bleu3 = []\n",
    "#     val_bleu4 = []\n",
    "\n",
    "    for epoch in range(EPOCHS):\n",
    "        # Start epoch\n",
    "        start = time.time()\n",
    "\n",
    "        total_loss = 0.0\n",
    "        enc_state = encoder.initialize_hidden_state()\n",
    "\n",
    "        for batch_idx, batch_inputs_targets in enumerate(train_gen):\n",
    "            batch_inputs = batch_inputs_targets[0]\n",
    "            batch_outputs = batch_inputs_targets[1]\n",
    "\n",
    "            batch_loss = train_step(batch_inputs, batch_outputs, enc_state)\n",
    "            total_loss += batch_loss\n",
    "\n",
    "            if batch_idx % log_every == 0:\n",
    "                print('Epoch {} Batch {} Batch Loss {:.4f}'.format(epoch+1, batch_idx, batch_loss.numpy()))\n",
    "\n",
    "        # End epoch\n",
    "        total_loss = total_loss / steps_per_epoch\n",
    "        train_loss_results.append(total_loss)\n",
    "\n",
    "    #     with train_summary_writer.as_default():\n",
    "    #         tf.summary.scalar('loss', total_loss, step=epoch)\n",
    "\n",
    "        print(\"Epochs: {} total_loss: {:.4f}\".format(epoch+1, total_loss))\n",
    "        print(\"Testing:\")\n",
    "        translate('we must not let this happen again.','il ne faut pas que cela se reproduise .')\n",
    "        print('Time taken for epoch{} {} sec\\n'.format(epoch+1,time.time() - start))\n",
    "\n",
    "#         bleu_1, bleu_2, bleu_3 , bleu_4 = evaluate_model(val_target_sentences, sentences)\n",
    "\n",
    "    #     with test_summary_writer.as_default():\n",
    "    #         tf.summary.scalar('bleu-1', bleu_1, step=epoch)\n",
    "    #         tf.summary.scalar('bleu-2', bleu_2, step=epoch)\n",
    "    #         tf.summary.scalar('bleu-3', bleu_3, step=epoch)\n",
    "    #         tf.summary.scalar('bleu-4', bleu_4, step=epoch)\n",
    "\n",
    "#         val_bleu1.append(bleu_1)\n",
    "#         val_bleu2.append(bleu_2)\n",
    "#         val_bleu3.append(bleu_3)\n",
    "#         val_bleu4.append(bleu_4)\n",
    "#         print(\"------\")\n",
    "#         print(\"Testing the model on a sentence:\")\n",
    "#         print(\"original sentence: {} -> target sentence: {}\".format(val_source_sentence,val_target_sentence))\n",
    "#         print(\"transaltes sentence: {}\".format(\" \".join(x for x in translate(val_sentence,eos,sos,1)[0])))\n",
    "#         print(\"------\")\n",
    "        print('saving checkpoint')\n",
    "        if epoch+1 % 5 ==0:\n",
    "    #         checkpoint every 5 epochs\n",
    "            checkpoint(encoder, 'encoder{}'.format(epoch+1))\n",
    "            checkpoint(decoder, 'decoder{}'.format(epoch+1))\n",
    " \n"
   ]
  },
  {
   "cell_type": "code",
   "execution_count": 27,
   "metadata": {
    "execution": {
     "iopub.execute_input": "2020-12-15T20:41:41.495958Z",
     "iopub.status.busy": "2020-12-15T20:41:41.495166Z",
     "iopub.status.idle": "2020-12-15T20:58:52.902361Z",
     "shell.execute_reply": "2020-12-15T20:58:52.901918Z"
    },
    "papermill": {
     "duration": 1031.439767,
     "end_time": "2020-12-15T20:58:52.902463",
     "exception": false,
     "start_time": "2020-12-15T20:41:41.462696",
     "status": "completed"
    },
    "tags": []
   },
   "outputs": [
    {
     "name": "stdout",
     "output_type": "stream",
     "text": [
      "Epoch 1 Batch 0 Batch Loss 7.1177\n",
      "Epoch 1 Batch 201 Batch Loss 4.0851\n",
      "Epoch 1 Batch 402 Batch Loss 4.1227\n",
      "Epoch 1 Batch 603 Batch Loss 4.0474\n",
      "Epoch 1 Batch 804 Batch Loss 3.6820\n",
      "Epoch 1 Batch 1005 Batch Loss 3.7844\n",
      "Epoch 1 Batch 1206 Batch Loss 3.5832\n",
      "Epochs: 1 total_loss: 3.9475\n",
      "Testing:\n",
      "Input: we must not let this happen again.\n",
      "Target translation: il ne faut pas que cela se reproduise .\n",
      "Predicted translation: ne nous nous nous nous nous nous nous nous nous \n",
      "Time taken for epoch1 207.3687882423401 sec\n",
      "\n",
      "saving checkpoint\n",
      "Epoch 2 Batch 0 Batch Loss 3.6939\n",
      "Epoch 2 Batch 201 Batch Loss 3.4433\n",
      "Epoch 2 Batch 402 Batch Loss 3.5641\n",
      "Epoch 2 Batch 603 Batch Loss 3.4253\n",
      "Epoch 2 Batch 804 Batch Loss 3.0368\n",
      "Epoch 2 Batch 1005 Batch Loss 3.1684\n",
      "Epoch 2 Batch 1206 Batch Loss 2.9794\n",
      "Epochs: 2 total_loss: 3.2588\n",
      "Testing:\n",
      "yes\n",
      "Input: we must not let this happen again.\n",
      "Target translation: il ne faut pas que cela se reproduise .\n",
      "Predicted translation: ne pouvons pas pas . <EOS> \n",
      "Time taken for epoch2 206.43435335159302 sec\n",
      "\n",
      "saving checkpoint\n",
      "Epoch 3 Batch 0 Batch Loss 3.1444\n",
      "Epoch 3 Batch 201 Batch Loss 2.9364\n",
      "Epoch 3 Batch 402 Batch Loss 3.1559\n",
      "Epoch 3 Batch 603 Batch Loss 3.0185\n",
      "Epoch 3 Batch 804 Batch Loss 2.6659\n",
      "Epoch 3 Batch 1005 Batch Loss 2.7840\n",
      "Epoch 3 Batch 1206 Batch Loss 2.6684\n",
      "Epochs: 3 total_loss: 2.8547\n",
      "Testing:\n",
      "yes\n",
      "Input: we must not let this happen again.\n",
      "Target translation: il ne faut pas que cela se reproduise .\n",
      "Predicted translation: ne pouvons pas le cas . <EOS> \n",
      "Time taken for epoch3 206.17102694511414 sec\n",
      "\n",
      "saving checkpoint\n",
      "Epoch 4 Batch 0 Batch Loss 2.7717\n",
      "Epoch 4 Batch 201 Batch Loss 2.6094\n",
      "Epoch 4 Batch 402 Batch Loss 2.8611\n",
      "Epoch 4 Batch 603 Batch Loss 2.7640\n",
      "Epoch 4 Batch 804 Batch Loss 2.4193\n",
      "Epoch 4 Batch 1005 Batch Loss 2.5220\n",
      "Epoch 4 Batch 1206 Batch Loss 2.4494\n",
      "Epochs: 4 total_loss: 2.5859\n",
      "Testing:\n",
      "yes\n",
      "Input: we must not let this happen again.\n",
      "Target translation: il ne faut pas que cela se reproduise .\n",
      "Predicted translation: ne pouvons pas le cas à ce sujet . <EOS> \n",
      "Time taken for epoch4 206.4468810558319 sec\n",
      "\n",
      "saving checkpoint\n",
      "Epoch 5 Batch 0 Batch Loss 2.5335\n",
      "Epoch 5 Batch 201 Batch Loss 2.3984\n",
      "Epoch 5 Batch 402 Batch Loss 2.6259\n",
      "Epoch 5 Batch 603 Batch Loss 2.5583\n",
      "Epoch 5 Batch 804 Batch Loss 2.2343\n",
      "Epoch 5 Batch 1005 Batch Loss 2.3340\n",
      "Epoch 5 Batch 1206 Batch Loss 2.2640\n",
      "Epochs: 5 total_loss: 2.3894\n",
      "Testing:\n",
      "yes\n",
      "Input: we must not let this happen again.\n",
      "Target translation: il ne faut pas que cela se reproduise .\n",
      "Predicted translation: ne pouvons pas le cas à ce sujet . <EOS> \n",
      "Time taken for epoch5 204.9791398048401 sec\n",
      "\n",
      "saving checkpoint\n"
     ]
    }
   ],
   "source": [
    "train(EPOCHS = 5, log_every = 201)"
   ]
  },
  {
   "cell_type": "code",
   "execution_count": 28,
   "metadata": {
    "execution": {
     "iopub.execute_input": "2020-12-15T20:58:52.987286Z",
     "iopub.status.busy": "2020-12-15T20:58:52.986706Z",
     "iopub.status.idle": "2020-12-15T20:58:52.990838Z",
     "shell.execute_reply": "2020-12-15T20:58:52.990350Z"
    },
    "papermill": {
     "duration": 0.047943,
     "end_time": "2020-12-15T20:58:52.990934",
     "exception": false,
     "start_time": "2020-12-15T20:58:52.942991",
     "status": "completed"
    },
    "tags": []
   },
   "outputs": [],
   "source": [
    "# import matplotlib.pyplot as plt\n",
    "\n",
    "# fig, axes = plt.subplots(2, sharex=True, figsize=(12, 8))\n",
    "# fig.suptitle('Training Metrics')\n",
    "\n",
    "# axes[0].set_ylabel(\"Loss\", fontsize=14)\n",
    "# axes[0].plot(train_loss_results)\n",
    "\n",
    "# axes[1].set_ylabel(\"Bleus\", fontsize=14)\n",
    "# axes[1].set_xlabel(\"Epoch\", fontsize=14)\n",
    "# axes[1].plot(val_bleu1, label=\"bleu1\")\n",
    "# axes[1].plot(val_bleu2, label=\"bleu2\")\n",
    "# axes[1].plot(val_bleu3, label=\"bleu3\")\n",
    "# axes[1].plot(val_bleu4, label=\"bleu4\")\n",
    "# axes[1].legend(loc=\"left\")\n",
    "\n",
    "# plt.show()"
   ]
  },
  {
   "cell_type": "code",
   "execution_count": 29,
   "metadata": {
    "execution": {
     "iopub.execute_input": "2020-12-15T20:58:53.077332Z",
     "iopub.status.busy": "2020-12-15T20:58:53.075552Z",
     "iopub.status.idle": "2020-12-15T20:58:53.077964Z",
     "shell.execute_reply": "2020-12-15T20:58:53.078394Z"
    },
    "id": "CG5WOpQmrz62",
    "papermill": {
     "duration": 0.047288,
     "end_time": "2020-12-15T20:58:53.078500",
     "exception": false,
     "start_time": "2020-12-15T20:58:53.031212",
     "status": "completed"
    },
    "tags": []
   },
   "outputs": [],
   "source": [
    "# %tensorboard --logdir logs/gradient_tape"
   ]
  },
  {
   "cell_type": "markdown",
   "metadata": {
    "id": "j9dvaKKfrz7a",
    "papermill": {
     "duration": 0.040404,
     "end_time": "2020-12-15T20:58:53.159583",
     "exception": false,
     "start_time": "2020-12-15T20:58:53.119179",
     "status": "completed"
    },
    "tags": []
   },
   "source": [
    "## Restore the latest checkpoint and test"
   ]
  },
  {
   "cell_type": "code",
   "execution_count": 30,
   "metadata": {
    "execution": {
     "iopub.execute_input": "2020-12-15T20:58:53.245153Z",
     "iopub.status.busy": "2020-12-15T20:58:53.244581Z",
     "iopub.status.idle": "2020-12-15T20:58:53.247950Z",
     "shell.execute_reply": "2020-12-15T20:58:53.248446Z"
    },
    "id": "1On48juBrz7b",
    "papermill": {
     "duration": 0.047584,
     "end_time": "2020-12-15T20:58:53.248548",
     "exception": false,
     "start_time": "2020-12-15T20:58:53.200964",
     "status": "completed"
    },
    "tags": []
   },
   "outputs": [],
   "source": [
    "# restoring the latest checkpoint in checkpoint_dir\n",
    "# checkpoint.restore(tf.train.latest_checkpoint(checkpoint_dir))"
   ]
  },
  {
   "cell_type": "code",
   "execution_count": 31,
   "metadata": {
    "execution": {
     "iopub.execute_input": "2020-12-15T20:58:53.338152Z",
     "iopub.status.busy": "2020-12-15T20:58:53.337579Z",
     "iopub.status.idle": "2020-12-15T20:58:53.341265Z",
     "shell.execute_reply": "2020-12-15T20:58:53.340844Z"
    },
    "papermill": {
     "duration": 0.052301,
     "end_time": "2020-12-15T20:58:53.341354",
     "exception": false,
     "start_time": "2020-12-15T20:58:53.289053",
     "status": "completed"
    },
    "tags": []
   },
   "outputs": [],
   "source": [
    "# def translate(sentences,eos,sos,BATCH_SIZE):\n",
    "\n",
    "#     results=[]\n",
    "    \n",
    "#     for i in range(len(sentences)//BATCH_SIZE):\n",
    "#         batch = sentences[i*BATCH_SIZE:(i+1)*BATCH_SIZE]\n",
    "#         encoder_hidden = tf.zeros((BATCH_SIZE, rnn_units))#GRU\n",
    "#         enc_out, enc_hiddens = encoder(batch, encoder_hidden)\n",
    "#         dec_hiddens = enc_hiddens\n",
    "#         dec_inputs = tf.expand_dims([sos] * BATCH_SIZE, 1)\n",
    "        \n",
    "#         finished_sentences = set()\n",
    "#         batch_translated_sentences = []\n",
    "\n",
    "#         while True:\n",
    "#             if with_attention:\n",
    "#                 dec_outs, dec_hiddens, _ = decoder(dec_inputs, dec_hiddens, enc_out)\n",
    "#             else:\n",
    "#                 dec_outs, dec_hiddens = decoder(dec_inputs, dec_hiddens)\n",
    "#             pred_ids = tf.argmax(dec_outs, axis=-1).numpy()\n",
    "#             batch_translated_sentences.append(pred_ids)\n",
    "#             ii, j= np.where(pred_ids == eos) # using np.where to get the indices where a given condition is True\n",
    "#             finished_sentences.update(ii.tolist()) # add new indexes to the set\n",
    "#             if len(finished_sentences) == BATCH_SIZE:\n",
    "#                 #decode the translated batch of sentences\n",
    "#                 translated_sentences = [[lang_dic[target_lang].int2word[int(token_id)] for token_id in sentence] for sentence in np.hstack(batch_translated_sentences)] #np.array(batch_results)]#.reshape(-1,BATCH_SIZE).T]#.squeeze()]\n",
    "#                 #clean <EOS> from sentences\n",
    "#                 cleaned_transalted_sentences = [sen[:sen.index(\"<EOS>\")] for sen in translated_sentences]\n",
    "#                 results.extend(cleaned_transalted_sentences)\n",
    "#                 break\n",
    "#             dec_inputs = pred_ids # the predicted ID is fed back into the model\n",
    "#     return results"
   ]
  }
 ],
 "metadata": {
  "kernelspec": {
   "display_name": "Python 3",
   "language": "python",
   "name": "python3"
  },
  "language_info": {
   "codemirror_mode": {
    "name": "ipython",
    "version": 3
   },
   "file_extension": ".py",
   "mimetype": "text/x-python",
   "name": "python",
   "nbconvert_exporter": "python",
   "pygments_lexer": "ipython3",
   "version": "3.7.6"
  },
  "papermill": {
   "duration": 1386.20806,
   "end_time": "2020-12-15T20:58:55.120059",
   "environment_variables": {},
   "exception": null,
   "input_path": "__notebook__.ipynb",
   "output_path": "__notebook__.ipynb",
   "parameters": {},
   "start_time": "2020-12-15T20:35:48.911999",
   "version": "2.1.0"
  }
 },
 "nbformat": 4,
 "nbformat_minor": 4
}
